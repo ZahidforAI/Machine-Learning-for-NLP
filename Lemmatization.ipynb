{
 "cells": [
  {
   "cell_type": "markdown",
   "metadata": {},
   "source": [
    "## Lemmatization\n",
    "\n",
    "Lemmatization is the process of converting a word to its base form. The difference between stemming and lemmatization is, lemmatization considers the context and converts the word to its meaningful base form, whereas stemming just removes the last few characters, often leading to incorrect meanings and spelling errors."
   ]
  },
  {
   "cell_type": "code",
   "execution_count": 1,
   "metadata": {},
   "outputs": [],
   "source": [
    "words = ['playing', 'plays', 'plate', 'planning', 'planned', 'planted', 'planned', 'eating', 'eats', 'gone', 'going', 'goes']"
   ]
  },
  {
   "cell_type": "code",
   "execution_count": 3,
   "metadata": {},
   "outputs": [],
   "source": [
    "#import wordnet lemmitizer from nltk\n",
    "from nltk.stem import WordNetLemmatizer"
   ]
  },
  {
   "cell_type": "code",
   "execution_count": 7,
   "metadata": {},
   "outputs": [],
   "source": [
    "lemmatizer = WordNetLemmatizer()"
   ]
  },
  {
   "cell_type": "markdown",
   "metadata": {},
   "source": [
    "## Pos tagging\n",
    "\n",
    "Part-of-speech tagging is the process of assigning a word to its grammatical category, in order to understand its role within the sentence. The most common categories are noun, verb, adjective, adverb, pronoun, preposition, conjunction, and interjection."
   ]
  },
  {
   "cell_type": "code",
   "execution_count": 8,
   "metadata": {},
   "outputs": [
    {
     "data": {
      "text/plain": [
       "'play'"
      ]
     },
     "execution_count": 8,
     "metadata": {},
     "output_type": "execute_result"
    }
   ],
   "source": [
    "lemmatizer.lemmatize('playing', pos='v')"
   ]
  },
  {
   "cell_type": "code",
   "execution_count": 14,
   "metadata": {},
   "outputs": [
    {
     "name": "stdout",
     "output_type": "stream",
     "text": [
      "playing-->playing\n",
      "plays-->play\n",
      "plate-->plate\n",
      "planning-->planning\n",
      "planned-->planned\n",
      "planted-->planted\n",
      "planned-->planned\n",
      "eating-->eating\n",
      "eats-->eats\n",
      "gone-->gone\n",
      "going-->going\n",
      "goes-->go\n"
     ]
    }
   ],
   "source": [
    "for word in words:\n",
    "    print(word + \"-->\" + lemmatizer.lemmatize(word, pos='n')) #noun lemmatization"
   ]
  },
  {
   "cell_type": "code",
   "execution_count": 15,
   "metadata": {},
   "outputs": [
    {
     "name": "stdout",
     "output_type": "stream",
     "text": [
      "playing-->play\n",
      "plays-->play\n",
      "plate-->plate\n",
      "planning-->plan\n",
      "planned-->plan\n",
      "planted-->plant\n",
      "planned-->plan\n",
      "eating-->eat\n",
      "eats-->eat\n",
      "gone-->go\n",
      "going-->go\n",
      "goes-->go\n"
     ]
    }
   ],
   "source": [
    "for word in words:\n",
    "    print(word + \"-->\" + lemmatizer.lemmatize(word, pos='v')) #verb lemmatization"
   ]
  }
 ],
 "metadata": {
  "kernelspec": {
   "display_name": "python_ml",
   "language": "python",
   "name": "python3"
  },
  "language_info": {
   "codemirror_mode": {
    "name": "ipython",
    "version": 3
   },
   "file_extension": ".py",
   "mimetype": "text/x-python",
   "name": "python",
   "nbconvert_exporter": "python",
   "pygments_lexer": "ipython3",
   "version": "3.12.2"
  }
 },
 "nbformat": 4,
 "nbformat_minor": 2
}
