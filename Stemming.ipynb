{
 "cells": [
  {
   "cell_type": "markdown",
   "metadata": {},
   "source": [
    "# Stemming\n",
    "\n",
    "Stemming is the process of reducing inflected (or sometimes derived) words to their word stem, base or root form."
   ]
  },
  {
   "cell_type": "code",
   "execution_count": 17,
   "metadata": {},
   "outputs": [],
   "source": [
    "words = ['eating', 'eats', 'sleeping','sleeps', 'playing','played', 'working', 'studying', 'reading', 'writing', 'running', 'walking','walked', 'talking']"
   ]
  },
  {
   "cell_type": "markdown",
   "metadata": {},
   "source": [
    "## Porter Stemmer\n",
    "\n",
    "The Porter stemming algorithm (or 'Porter stemmer') is a process for removing the commoner morphological and inflexional endings from words in English. Its main use is as part of a term normalisation process that is usually done when setting up Information Retrieval systems."
   ]
  },
  {
   "cell_type": "code",
   "execution_count": 18,
   "metadata": {},
   "outputs": [],
   "source": [
    "from nltk.stem import PorterStemmer"
   ]
  },
  {
   "cell_type": "code",
   "execution_count": 19,
   "metadata": {},
   "outputs": [],
   "source": [
    "stemming = PorterStemmer()\n"
   ]
  },
  {
   "cell_type": "code",
   "execution_count": 20,
   "metadata": {},
   "outputs": [
    {
     "name": "stdout",
     "output_type": "stream",
     "text": [
      "eating : eat\n",
      "eats : eat\n",
      "sleeping : sleep\n",
      "sleeps : sleep\n",
      "playing : play\n",
      "played : play\n",
      "working : work\n",
      "studying : studi\n",
      "reading : read\n",
      "writing : write\n",
      "running : run\n",
      "walking : walk\n",
      "walked : walk\n",
      "talking : talk\n"
     ]
    }
   ],
   "source": [
    "for word in words:\n",
    "    print(word + ' : ' + stemming.stem(word))"
   ]
  },
  {
   "cell_type": "markdown",
   "metadata": {},
   "source": [
    "## RegexpStemmer\n",
    "\n",
    "The RegexpStemmer uses regular expressions to identify the morphological endings of words. It is a simple stemmer that can be used to remove common morphological and inflexional endings from words."
   ]
  },
  {
   "cell_type": "code",
   "execution_count": 21,
   "metadata": {},
   "outputs": [],
   "source": [
    "from nltk.stem import RegexpStemmer"
   ]
  },
  {
   "cell_type": "code",
   "execution_count": 22,
   "metadata": {},
   "outputs": [],
   "source": [
    "reg_stemmer = RegexpStemmer('ing$|ed$|es$|s$')"
   ]
  },
  {
   "cell_type": "code",
   "execution_count": 23,
   "metadata": {},
   "outputs": [
    {
     "name": "stdout",
     "output_type": "stream",
     "text": [
      "eating : eat\n",
      "eats : eat\n",
      "sleeping : sleep\n",
      "sleeps : sleep\n",
      "playing : play\n",
      "played : play\n",
      "working : work\n",
      "studying : study\n",
      "reading : read\n",
      "writing : writ\n",
      "running : runn\n",
      "walking : walk\n",
      "walked : walk\n",
      "talking : talk\n"
     ]
    }
   ],
   "source": [
    "for word in words:\n",
    "    print(word + ' : ' + reg_stemmer.stem(word))"
   ]
  },
  {
   "cell_type": "markdown",
   "metadata": {},
   "source": [
    "## Snowball Stemmer\n",
    "\n",
    "The Snowball Stemmer is a stemming algorithm that is more powerful and flexible than the Porter Stemmer. It supports several languages and can be extended to support more."
   ]
  },
  {
   "cell_type": "code",
   "execution_count": 24,
   "metadata": {},
   "outputs": [],
   "source": [
    "from nltk.stem import SnowballStemmer"
   ]
  },
  {
   "cell_type": "code",
   "execution_count": 25,
   "metadata": {},
   "outputs": [],
   "source": [
    "snow_stemmer = SnowballStemmer('english')"
   ]
  },
  {
   "cell_type": "code",
   "execution_count": 26,
   "metadata": {},
   "outputs": [
    {
     "name": "stdout",
     "output_type": "stream",
     "text": [
      "eating : eat\n",
      "eats : eat\n",
      "sleeping : sleep\n",
      "sleeps : sleep\n",
      "playing : play\n",
      "played : play\n",
      "working : work\n",
      "studying : studi\n",
      "reading : read\n",
      "writing : write\n",
      "running : run\n",
      "walking : walk\n",
      "walked : walk\n",
      "talking : talk\n"
     ]
    }
   ],
   "source": [
    "for word in words:\n",
    "    print(word + ' : ' + snow_stemmer.stem(word))"
   ]
  },
  {
   "cell_type": "markdown",
   "metadata": {},
   "source": [
    "## Conclusion\n",
    "\n",
    "The stemmining process is useful for reducing the number of words that need to be processed in natural language processing tasks. It can help to improve the performance of text classification, information retrieval, and other tasks that involve processing large amounts of text data. But it is important to note that stemming is not always perfect and can sometimes produce incorrect results. It is important to evaluate the performance of the stemmer on your specific task and dataset to ensure that it is producing accurate results."
   ]
  },
  {
   "cell_type": "code",
   "execution_count": null,
   "metadata": {},
   "outputs": [],
   "source": []
  }
 ],
 "metadata": {
  "kernelspec": {
   "display_name": "python_ml",
   "language": "python",
   "name": "python3"
  },
  "language_info": {
   "codemirror_mode": {
    "name": "ipython",
    "version": 3
   },
   "file_extension": ".py",
   "mimetype": "text/x-python",
   "name": "python",
   "nbconvert_exporter": "python",
   "pygments_lexer": "ipython3",
   "version": "3.12.2"
  }
 },
 "nbformat": 4,
 "nbformat_minor": 2
}
